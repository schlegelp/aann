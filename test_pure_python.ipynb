{
 "cells": [
  {
   "cell_type": "markdown",
   "metadata": {},
   "source": [
    "Simple Python implementation of all-nearest-neighbours "
   ]
  },
  {
   "cell_type": "code",
   "execution_count": 81,
   "metadata": {},
   "outputs": [],
   "source": [
    "from scipy.spatial import Delaunay, cKDTree\n",
    "import pandas as pd\n",
    "import numpy as np"
   ]
  },
  {
   "cell_type": "code",
   "execution_count": 9,
   "metadata": {},
   "outputs": [
    {
     "data": {
      "text/plain": [
       "((127454, 3), (22992, 3))"
      ]
     },
     "execution_count": 9,
     "metadata": {},
     "output_type": "execute_result"
    }
   ],
   "source": [
    "# Load two example neurons as point clouds\n",
    "x = pd.read_csv(\n",
    "    \"/Users/philipps/Downloads/720575940638426064.swc\",\n",
    "    comment=\"#\",\n",
    "    header=None,\n",
    "    sep=\" \",\n",
    ")[[2, 3, 4]].values\n",
    "y = pd.read_csv(\n",
    "    \"/Users/philipps/Downloads/720575940613656978.swc\",\n",
    "    comment=\"#\",\n",
    "    header=None,\n",
    "    sep=\" \",\n",
    ")[[2, 3, 4]].values\n",
    "\n",
    "x.shape, y.shape"
   ]
  },
  {
   "cell_type": "code",
   "execution_count": 10,
   "metadata": {},
   "outputs": [
    {
     "name": "stdout",
     "output_type": "stream",
     "text": [
      "CPU times: user 6.55 s, sys: 324 ms, total: 6.87 s\n",
      "Wall time: 6.97 s\n"
     ]
    }
   ],
   "source": [
    "%%time\n",
    "\n",
    "# Calculate the delaunay triangulation\n",
    "x = Delaunay(x)\n",
    "y = Delaunay(y)"
   ]
  },
  {
   "cell_type": "code",
   "execution_count": 14,
   "metadata": {},
   "outputs": [
    {
     "data": {
      "text/plain": [
       "(array([], shape=(0, 3), dtype=int32), array([], shape=(0, 3), dtype=int32))"
      ]
     },
     "execution_count": 14,
     "metadata": {},
     "output_type": "execute_result"
    }
   ],
   "source": [
    "# Check if any vertices were dropped\n",
    "x.coplanar, y.coplanar"
   ]
  },
  {
   "cell_type": "code",
   "execution_count": 15,
   "metadata": {},
   "outputs": [
    {
     "data": {
      "text/plain": [
       "array([[43494, 43858, 38206, 38015],\n",
       "       [ 6756,  6796,  6654,  6653],\n",
       "       [ 6756,  6242,  6654,  6653],\n",
       "       ...,\n",
       "       [35960, 35800, 35801, 33228],\n",
       "       [42396, 40406, 39176, 39058],\n",
       "       [42396, 40406, 39176, 39287]], dtype=int32)"
      ]
     },
     "execution_count": 15,
     "metadata": {},
     "output_type": "execute_result"
    }
   ],
   "source": [
    "x.simplices"
   ]
  },
  {
   "cell_type": "code",
   "execution_count": 16,
   "metadata": {},
   "outputs": [
    {
     "data": {
      "text/plain": [
       "array([[ 5131,  5118, 21107,  6117],\n",
       "       [ 5100,  5118, 21107,  6117],\n",
       "       [ 5100,  5131,  5118,  6117],\n",
       "       ...,\n",
       "       [ 8284,  8304,  8485,  8432],\n",
       "       [ 8284,  8273,  8391,  8432],\n",
       "       [ 8284,  8304,  8391,  8432]], dtype=int32)"
      ]
     },
     "execution_count": 16,
     "metadata": {},
     "output_type": "execute_result"
    }
   ],
   "source": [
    "y.simplices"
   ]
  },
  {
   "cell_type": "code",
   "execution_count": 23,
   "metadata": {},
   "outputs": [
    {
     "data": {
      "text/plain": [
       "((22993,), (379246,))"
      ]
     },
     "execution_count": 23,
     "metadata": {},
     "output_type": "execute_result"
    }
   ],
   "source": [
    "y.vertex_neighbor_vertices[0].shape, y.vertex_neighbor_vertices[1].shape"
   ]
  },
  {
   "cell_type": "code",
   "execution_count": 33,
   "metadata": {},
   "outputs": [
    {
     "data": {
      "text/plain": [
       "array([5205, 5543, 5560, 5129, 4873, 5071, 5136, 5140, 5135, 5124, 5126,\n",
       "       5202, 5141, 5122, 5484, 5137, 5128, 5159, 5156, 5158, 5495, 5482,\n",
       "       5476], dtype=int32)"
      ]
     },
     "execution_count": 33,
     "metadata": {},
     "output_type": "execute_result"
    }
   ],
   "source": [
    "# Neighbors of vertex k\n",
    "k = 5132\n",
    "ix1 = y.vertex_neighbor_vertices[0][k]\n",
    "ix2 = y.vertex_neighbor_vertices[0][k + 1]\n",
    "y.vertex_neighbor_vertices[1][ix1:ix2]"
   ]
  },
  {
   "cell_type": "code",
   "execution_count": 120,
   "metadata": {},
   "outputs": [],
   "source": [
    "i = 0\n",
    "\n",
    "\n",
    "def all_nearest_neighbours(x, y):\n",
    "    \"\"\"\n",
    "    Find all nearest neighbors between two delaunay triangulations.\n",
    "    \"\"\"\n",
    "    # Run a depth first search starting from each vertex in x\n",
    "    # to find the nearest neighbor in y\n",
    "    dists = np.zeros(len(x.points))\n",
    "    ind = np.zeros(len(x.points), dtype=int)\n",
    "    n_checked = np.zeros(len(x.points))\n",
    "\n",
    "    # Start with the first vertex in the first simplex\n",
    "    vertex = x.simplices[0][0]\n",
    "    d, ix, i = _find_nearest_neighbour(y, x.points[vertex], start=None)\n",
    "    dists[vertex] = d\n",
    "    dists[vertex] = ix\n",
    "    n_checked[vertex] = i\n",
    "\n",
    "    # Make a stack with vertices to visit and with the closest vertex in y\n",
    "    stack = [(ix, get_neighbours(x, vertex))]\n",
    "    while stack:\n",
    "        ix, neighbors = stack.pop()\n",
    "        for n in neighbors:\n",
    "            # Skip if we already found the nearest neighbor for this vertex\n",
    "            if dists[n] > 0:\n",
    "                continue\n",
    "            d, ix, i = _find_nearest_neighbour(y, x.points[n], start=ix)\n",
    "            dists[n] = d\n",
    "            ind[n] = ix\n",
    "            n_checked[n] = i\n",
    "            stack.append((ix, get_neighbours(x, n)))\n",
    "\n",
    "    return dists, ind, n_checked\n",
    "\n",
    "\n",
    "def get_neighbours(x, vertex):\n",
    "    \"\"\"Find the neighbours of vertex in delaunay triangulation x.\"\"\"\n",
    "    ix1 = x.vertex_neighbor_vertices[0][vertex]\n",
    "    ix2 = x.vertex_neighbor_vertices[0][vertex + 1]\n",
    "    return x.vertex_neighbor_vertices[1][ix1:ix2]\n",
    "\n",
    "\n",
    "def _find_nearest_neighbour(y, p, start=None):\n",
    "    \"\"\"Find the approximate nearest neighbor of point p among the points in y.\"\"\"\n",
    "    # If no start defined, use the first point in the first simplex\n",
    "    if start is None:\n",
    "        vert = y.simplices[0][0]\n",
    "    else:\n",
    "        vert = start\n",
    "\n",
    "    # Track which points we have already visited\n",
    "    visited = np.zeros(len(y.points), dtype=bool)\n",
    "    visited[vert] = True\n",
    "\n",
    "    # Get the distance between p and the starting point\n",
    "    # d = ((y.points[vert] - p) ** 2).sum()\n",
    "    # Oddly enough, this is slower than the following:\n",
    "    yp = y.points[vert]\n",
    "    d = sum(((yp[0] - p[0]) ** 2, (yp[1] - p[1]) ** 2, (yp[2] - p[2]) ** 2))\n",
    "    i = 0\n",
    "    while True:\n",
    "        # Get the neighbours of the current vertex\n",
    "        neighbors = get_neighbours(y, vert)\n",
    "\n",
    "        # Figure out if any of the neighbors is closer to p than the current vertex\n",
    "        # If so, update the distance and the current vertex\n",
    "        vert_new = None\n",
    "        for n in neighbors:\n",
    "            if not visited[n]:\n",
    "                # d2 = ((y.points[n] - p) ** 2).sum()\n",
    "                yp = y.points[n]\n",
    "                d2 = sum(\n",
    "                    ((yp[0] - p[0]) ** 2, (yp[1] - p[1]) ** 2, (yp[2] - p[2]) ** 2)\n",
    "                )\n",
    "                visited[n] = True\n",
    "                if d2 < d:\n",
    "                    d = d2\n",
    "                    vert_new = n\n",
    "        # If none of the neighbours is closer, we are done\n",
    "        if vert_new is None:\n",
    "            break\n",
    "\n",
    "        # Otherwise, update the current vertex and mark it as visited\n",
    "        vert = vert_new\n",
    "        # visited[vert] = True\n",
    "\n",
    "        i += 1\n",
    "\n",
    "    return np.sqrt(d), vert, i"
   ]
  },
  {
   "cell_type": "code",
   "execution_count": 121,
   "metadata": {},
   "outputs": [
    {
     "name": "stdout",
     "output_type": "stream",
     "text": [
      "CPU times: user 533 µs, sys: 8 µs, total: 541 µs\n",
      "Wall time: 541 µs\n"
     ]
    },
    {
     "data": {
      "text/plain": [
       "(52422.675732930686, 12455, 5)"
      ]
     },
     "execution_count": 121,
     "metadata": {},
     "output_type": "execute_result"
    }
   ],
   "source": [
    "%%time\n",
    "\n",
    "# Test the A* search for a single point\n",
    "_find_nearest_neighbour(y, x.points[100000])"
   ]
  },
  {
   "cell_type": "code",
   "execution_count": 105,
   "metadata": {},
   "outputs": [],
   "source": [
    "# Check against scipy's KDTree\n",
    "tree = cKDTree(y.points)"
   ]
  },
  {
   "cell_type": "code",
   "execution_count": 112,
   "metadata": {},
   "outputs": [
    {
     "name": "stdout",
     "output_type": "stream",
     "text": [
      "CPU times: user 570 µs, sys: 142 µs, total: 712 µs\n",
      "Wall time: 670 µs\n"
     ]
    },
    {
     "data": {
      "text/plain": [
       "(52422.675732930686, 12455)"
      ]
     },
     "execution_count": 112,
     "metadata": {},
     "output_type": "execute_result"
    }
   ],
   "source": [
    "%%time\n",
    "\n",
    "tree.query(x.points[100000])"
   ]
  },
  {
   "cell_type": "code",
   "execution_count": 122,
   "metadata": {},
   "outputs": [
    {
     "name": "stdout",
     "output_type": "stream",
     "text": [
      "CPU times: user 17.3 s, sys: 102 ms, total: 17.4 s\n",
      "Wall time: 17.4 s\n"
     ]
    },
    {
     "data": {
      "text/plain": [
       "(array([105146.42337236,  40647.4728485 ,  41286.3492668 , ...,\n",
       "         90605.82305969,  90369.69973375,  90338.68600993]),\n",
       " array([12687,  6089,  6089, ..., 17557, 17557, 17557]),\n",
       " array([0., 0., 1., ..., 1., 0., 0.]))"
      ]
     },
     "execution_count": 122,
     "metadata": {},
     "output_type": "execute_result"
    }
   ],
   "source": [
    "%%time\n",
    "\n",
    "# Run full search\n",
    "dist, ind, i = all_nearest_neighbours(x, y)\n",
    "dist, ind, i"
   ]
  },
  {
   "cell_type": "code",
   "execution_count": 115,
   "metadata": {},
   "outputs": [
    {
     "name": "stdout",
     "output_type": "stream",
     "text": [
      "CPU times: user 2.07 s, sys: 25.1 ms, total: 2.1 s\n",
      "Wall time: 2.12 s\n"
     ]
    },
    {
     "data": {
      "text/plain": [
       "(array([105146.42337236,  40647.4728485 ,  41286.3492668 , ...,\n",
       "         90605.82305969,  90369.69973375,  90338.68600993]),\n",
       " array([12687,  6089,  6089, ..., 17557, 17557, 17557]))"
      ]
     },
     "execution_count": 115,
     "metadata": {},
     "output_type": "execute_result"
    }
   ],
   "source": [
    "%%time\n",
    "\n",
    "# Check against scipy's KDTree\n",
    "dist2, ind2 = tree.query(x.points)\n",
    "dist2, ind2"
   ]
  },
  {
   "cell_type": "code",
   "execution_count": 117,
   "metadata": {},
   "outputs": [
    {
     "data": {
      "text/plain": [
       "1"
      ]
     },
     "execution_count": 117,
     "metadata": {},
     "output_type": "execute_result"
    }
   ],
   "source": [
    "# How often do the results differ?\n",
    "(ind != ind2).sum()"
   ]
  },
  {
   "cell_type": "code",
   "execution_count": 79,
   "metadata": {},
   "outputs": [],
   "source": [
    "%load_ext line_profiler"
   ]
  },
  {
   "cell_type": "code",
   "execution_count": 119,
   "metadata": {},
   "outputs": [
    {
     "name": "stdout",
     "output_type": "stream",
     "text": [
      "Timer unit: 1e-09 s\n",
      "\n",
      "Total time: 53.5217 s\n",
      "File: /var/folders/b1/1fbq04gx1vg344_ctkmv52d00000gn/T/ipykernel_34341/3180897509.py\n",
      "Function: _find_nearest_neighbour at line 45\n",
      "\n",
      "Line #      Hits         Time  Per Hit   % Time  Line Contents\n",
      "==============================================================\n",
      "    45                                           def _find_nearest_neighbour(y, p, start=None):\n",
      "    46                                               \"\"\"Find the approximate nearest neighbor of point p among the points in y.\"\"\"\n",
      "    47                                               # If no start defined, use the first point in the first simplex\n",
      "    48    127454   69093000.0    542.1      0.1      if start is None:\n",
      "    49         1       3000.0   3000.0      0.0          vert = y.simplices[0][0]\n",
      "    50                                               else:\n",
      "    51    127453   66722000.0    523.5      0.1          vert = start\n",
      "    52                                           \n",
      "    53                                               # Track which points we have already visited\n",
      "    54    127454  465944000.0   3655.8      0.9      visited = np.zeros(len(y.points), dtype=bool)\n",
      "    55    127454  102037000.0    800.6      0.2      visited[vert] = True\n",
      "    56                                           \n",
      "    57                                               # Get the distance between p and the starting point\n",
      "    58    127454 1057420000.0   8296.5      2.0      d = ((y.points[vert] - p) ** 2).sum()\n",
      "    59    127454   64015000.0    502.3      0.1      i = 0\n",
      "    60                                               while True:\n",
      "    61                                                   # Get the neighbours of the current vertex\n",
      "    62    153696  189413000.0   1232.4      0.4          ix1 = y.vertex_neighbor_vertices[0][vert]\n",
      "    63    153696  674278000.0   4387.1      1.3          ix2 = y.vertex_neighbor_vertices[0][vert + 1]\n",
      "    64    153696  195964000.0   1275.0      0.4          neighbors = y.vertex_neighbor_vertices[1][ix1:ix2]\n",
      "    65                                           \n",
      "    66                                                   # Figure out if any of the neighbors is closer to p than the current vertex\n",
      "    67                                                   # If so, update the distance and the current vertex\n",
      "    68    153696   68073000.0    442.9      0.1          vert_new = None\n",
      "    69   5810040 5539143000.0    953.4     10.3          for n in neighbors:\n",
      "    70   5656344 3778212000.0    668.0      7.1              if not visited[n]:\n",
      "    71   5354873        3e+10   6328.6     63.3                  d2 = ((y.points[n] - p) ** 2).sum()\n",
      "    72   5354873 4078820000.0    761.7      7.6                  visited[n] = True\n",
      "    73   5354873 2692998000.0    502.9      5.0                  if d2 < d:\n",
      "    74     45038   20995000.0    466.2      0.0                      d = d2\n",
      "    75     45038   21157000.0    469.8      0.0                      vert_new = n\n",
      "    76                                                   # If none of the neighbours is closer, we are done\n",
      "    77    153696   94884000.0    617.3      0.2          if vert_new is None:\n",
      "    78    127454   60857000.0    477.5      0.1              break\n",
      "    79                                           \n",
      "    80                                                   # Otherwise, update the current vertex and mark it as visited\n",
      "    81     26242   12560000.0    478.6      0.0          vert = vert_new\n",
      "    82                                                   # visited[vert] = True\n",
      "    83                                           \n",
      "    84     26242   18760000.0    714.9      0.0          i += 1\n",
      "    85                                           \n",
      "    86    127454  361457000.0   2836.0      0.7      return np.sqrt(d), vert, i"
     ]
    }
   ],
   "source": [
    "%lprun -f _find_nearest_neighbour all_nearest_neighbours(x, y)"
   ]
  },
  {
   "cell_type": "code",
   "execution_count": null,
   "metadata": {},
   "outputs": [],
   "source": []
  }
 ],
 "metadata": {
  "kernelspec": {
   "display_name": ".venv",
   "language": "python",
   "name": "python3"
  },
  "language_info": {
   "codemirror_mode": {
    "name": "ipython",
    "version": 3
   },
   "file_extension": ".py",
   "mimetype": "text/x-python",
   "name": "python",
   "nbconvert_exporter": "python",
   "pygments_lexer": "ipython3",
   "version": "3.9.9"
  }
 },
 "nbformat": 4,
 "nbformat_minor": 2
}
